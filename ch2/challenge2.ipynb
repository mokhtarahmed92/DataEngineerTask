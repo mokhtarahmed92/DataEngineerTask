{
 "cells": [
  {
   "cell_type": "markdown",
   "metadata": {},
   "source": [
    "# Challenge: Data Analysis\n",
    "-----------------------------------------------\n",
    "* The purpose of this task is to analyze the user location data with a particular time."
   ]
  },
  {
   "cell_type": "markdown",
   "metadata": {},
   "source": [
    "## Input:\n",
    "-------------------------------\n",
    "* The following example shows sample of the user location transaction for 3 users (A, B and C)\n",
    "    * <font color='red'> **ID**: INT i assumed this column to represent the row id </font>\n",
    "    * **SUB_ID** : String represents the subscriber id \n",
    "    * **STARTDATETIME** : TimeStamp represents the transaction timestamp\n",
    "    * **CELL_ID** : INT represents the cell id\n",
    "    * **LOCATION** : STRING represents the location id\n",
    "   \n",
    "**You will found the data sample file i used for the task \"ch2_mock\" in the ch2 directory**\n",
    "    "
   ]
  },
  {
   "cell_type": "markdown",
   "metadata": {},
   "source": [
    "<img src=\"input.jpg\">"
   ]
  },
  {
   "cell_type": "markdown",
   "metadata": {},
   "source": [
    "## Assumption :\n",
    "-----------------------------------------\n",
    "1.\tThe user remains at the same location until you receive the next location update transaction for him \n",
    "2.\tIn case there is no next location update transaction consider the end time to be the last transaction time for all the users.\n",
    "3.  I assumed that the end time to be hard coded in the script as i got confused how should it be represented in the input file but i can made another another assumption to avoid the hard coded end time by selecting the date of the last transaction in the table\n"
   ]
  },
  {
   "cell_type": "markdown",
   "metadata": {},
   "source": [
    "## Task Description \n",
    "----------------------------------\n",
    "* I stated the **arrive_at** time which is the start time of each transaction.\n",
    "* I stated the **leave_at** time whish is start time of the next transaction.\n",
    "* In **group_id** column For each user i organized the consecutive transactions at the same location to the same group for example the first 3 rows in the example will be assigned to group 0 and 2 rows after will be assigned to group 1 and so on.\n",
    "* The following hardcoded end time i assumed it will be input to the script \n",
    "COALESCE((Lead(start_date_time, 1) OVER(PARTITION BY sub_id ORDER BY start_date_time asc)),<font color='red'> CAST(\"2017-03-10 13:00:00\" as TIMESTAMP)</font>)\n",
    "\n",
    "But however we can avoid that by selecting the last transaction in the dataset by the following inner query \n",
    " \n",
    "<font color='blue'>**select start_date_time from mobile_table order by start_date_time desc limit 1**</font>\n"
   ]
  },
  {
   "cell_type": "raw",
   "metadata": {},
   "source": [
    "SELECT sub_id,\n",
    "\t\tlocation_id,\n",
    "\t\tstart_date_time as arrive_at,\n",
    "\t\tCOALESCE((Lead(start_date_time, 1) OVER(PARTITION BY sub_id ORDER BY start_date_time asc)),\n",
    "        CAST(\"2017-03-10 13:00:00\" as TIMESTAMP)) as leave_at,\n",
    "\t\t(row_number() over (order by id) - row_number() over (partition by location_id order by id)) as group_id\n",
    "FROM mobile_table"
   ]
  },
  {
   "cell_type": "markdown",
   "metadata": {},
   "source": [
    "* **stay_about** will calculate the period between every two consecutive transactions i converted the datetime to seconds to be easy to subtracted then i converted the difference to mintues"
   ]
  },
  {
   "cell_type": "raw",
   "metadata": {},
   "source": [
    "SELECT sub_id,\n",
    "\t   location_id,\n",
    "\t   group_id,\n",
    "\t   arrive_at,\n",
    "\t   leave_at,\n",
    "\t   (unix_timestamp(leave_at)- unix_timestamp(arrive_at))/60 as stay_about\n",
    "FROM(\n",
    "\t\t  SELECT sub_id,\n",
    "\t\t\t\t location_id,\n",
    "\t\t\t\t start_date_time as arrive_at,\n",
    "\t\t\t\t COALESCE((Lead(start_date_time, 1) OVER(PARTITION BY sub_id ORDER BY start_date_time asc)),\n",
    "\t\t\t\t CAST(\"2017-03-10 13:00:00\" as TIMESTAMP)) as leave_at,\n",
    "\t\t\t\t (row_number() over (order by id) -row_number() over (partition by location_id order by id)) as group_id\n",
    "\t\t  FROM mobile_table\n",
    "\t\t  ) t\n",
    ") t1"
   ]
  },
  {
   "cell_type": "markdown",
   "metadata": {},
   "source": [
    "* **stay_about_for_location** Will calculate sum of each consecutive transactions for the user in specific locaiton"
   ]
  },
  {
   "cell_type": "raw",
   "metadata": {},
   "source": [
    "SELECT sub_id , location_id, sum(stay_about) as stay_about_for_location\n",
    "\tFROM(\n",
    "\t\tSELECT sub_id,\n",
    "\t\t\t   location_id,\n",
    "\t\t\t   group_id,\n",
    "\t\t\t   arrive_at,\n",
    "\t\t\t   leave_at,\n",
    "\t\t\t   (unix_timestamp(leave_at)- unix_timestamp(arrive_at))/60 as stay_about\n",
    "\t\tFROM(\n",
    "\t\t  SELECT sub_id,\n",
    "\t\t\t\t location_id,\n",
    "\t\t\t\t start_date_time as arrive_at,\n",
    "\t\t\t\t COALESCE((Lead(start_date_time, 1) OVER(PARTITION BY sub_id ORDER BY start_date_time asc)),\n",
    "\t\t\t\t CAST(\"2017-03-10 13:00:00\" as TIMESTAMP)) as leave_at,\n",
    "\t\t\t\t (row_number() over (order by id) -row_number() over (partition by location_id order by id)) as group_id\n",
    "\t\t  FROM mobile_table\n",
    "\t\t  ) t\n",
    "\t\t) t1\n",
    "\tgroup by sub_id , location_id, group_id\n",
    "\torder by sub_id , location_id, group_id"
   ]
  },
  {
   "cell_type": "markdown",
   "metadata": {},
   "source": [
    "* **total_duration** will represents the total duration the user spent at specific location \n",
    "* **max_consecutive_duration** will maximum duration the user spent at specific location\n",
    "* **min_consecutive_duration** will minimun duration the user spent at specific location"
   ]
  },
  {
   "cell_type": "raw",
   "metadata": {},
   "source": [
    "SELECT sub_id,\n",
    "\t   location_id,\n",
    "\t   sum(stay_about_for_location) as total_duration,\n",
    "\t   max(stay_about_for_location) as max_consecutive_duration,\n",
    "\t   min(stay_about_for_location) as min_consecutive_duration\n",
    "FROM(\n",
    "\tSELECT sub_id , location_id, sum(stay_about) as stay_about_for_location\n",
    "\tFROM(\n",
    "\t\tSELECT sub_id,\n",
    "\t\t\t   location_id,\n",
    "\t\t\t   group_id,\n",
    "\t\t\t   arrive_at,\n",
    "\t\t\t   leave_at,\n",
    "\t\t\t   (unix_timestamp(leave_at)- unix_timestamp(arrive_at))/60 as stay_about\n",
    "\t\tFROM(\n",
    "\t\t  SELECT sub_id,\n",
    "\t\t\t\t location_id,\n",
    "\t\t\t\t start_date_time as arrive_at,\n",
    "\t\t\t\t COALESCE((Lead(start_date_time, 1) OVER(PARTITION BY sub_id ORDER BY start_date_time asc)),\n",
    "\t\t\t\t CAST(\"2017-03-10 13:00:00\" as TIMESTAMP)) as leave_at,\n",
    "\t\t\t\t (row_number() over (order by id) -row_number() over (partition by location_id order by id)) as group_id\n",
    "\t\t  FROM mobile_table\n",
    "\t\t  ) t\n",
    "\t\t) t1\n",
    "\tgroup by sub_id , location_id, group_id\n",
    "\torder by sub_id , location_id, group_id\n",
    ") t3\n",
    "group by sub_id , location_id\n",
    "order by sub_id , location_id"
   ]
  },
  {
   "cell_type": "markdown",
   "metadata": {},
   "source": [
    "**Final Notes**\n",
    "* I tried to avoid joins in this script due to it's bad performance and usually sub queries are faster.\n",
    "* The Script is attached at the ch2 directory **script.txt**\n",
    "* You can use the following script to create the table "
   ]
  },
  {
   "cell_type": "raw",
   "metadata": {},
   "source": [
    "CREATE TABLE IF NOT EXISTS MOBILE_TABLE (\n",
    "  id int,\n",
    "  sub_id String,\n",
    "  start_date_time timestamp,\n",
    "  cell_id int, \n",
    "  location_id String)\n",
    "ROW FORMAT DELIMITED\n",
    "FIELDS TERMINATED BY ','\n",
    "LINES TERMINATED BY '\\n'\n",
    "LOCATION '/ch2'"
   ]
  },
  {
   "cell_type": "markdown",
   "metadata": {},
   "source": [
    "## Output:\n",
    "---------------------------\n",
    "* This is a sample of my script run output using the data file attached **\"ch2_mock\"**"
   ]
  },
  {
   "cell_type": "markdown",
   "metadata": {},
   "source": [
    "<img src=\"output.png\">"
   ]
  }
 ],
 "metadata": {
  "kernelspec": {
   "display_name": "Python 3",
   "language": "python",
   "name": "python3"
  },
  "language_info": {
   "codemirror_mode": {
    "name": "ipython",
    "version": 3
   },
   "file_extension": ".py",
   "mimetype": "text/x-python",
   "name": "python",
   "nbconvert_exporter": "python",
   "pygments_lexer": "ipython3",
   "version": "3.6.2"
  }
 },
 "nbformat": 4,
 "nbformat_minor": 2
}
